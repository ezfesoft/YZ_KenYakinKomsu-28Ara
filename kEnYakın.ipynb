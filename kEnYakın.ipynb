{
  "nbformat": 4,
  "nbformat_minor": 0,
  "metadata": {
    "colab": {
      "provenance": []
    },
    "kernelspec": {
      "name": "python3",
      "display_name": "Python 3"
    },
    "language_info": {
      "name": "python"
    }
  },
  "cells": [
    {
      "cell_type": "markdown",
      "source": [
        "Gerekli Paketleri Yükleme\n",
        "\n"
      ],
      "metadata": {
        "id": "W8TPyo0xaUd4"
      }
    },
    {
      "cell_type": "code",
      "execution_count": 2,
      "metadata": {
        "id": "kWqdWohxWzrE"
      },
      "outputs": [],
      "source": [
        "import pandas as pd\n",
        "import numpy as np\n",
        "\n",
        "from sklearn.neighbors import KNeighborsClassifier\n",
        "from sklearn.model_selection import train_test_split\n",
        "from sklearn.metrics import classification_report,confusion_matrix"
      ]
    },
    {
      "cell_type": "markdown",
      "source": [
        "Veriseti Oluşturma"
      ],
      "metadata": {
        "id": "E68idPo_aYB_"
      }
    },
    {
      "cell_type": "code",
      "source": [
        "np.random.seed(0)\n",
        "bitki_id=np.arange(1,101)\n",
        "yaprak_uzunlugu=np.random.uniform(5.0,20.0,size=100)\n",
        "yaprak_genisligi=np.random.uniform(2.0,10.0,size=100)\n",
        "cicek_rengi=np.random.choice(['Kırmızı','Mavi','Sarı'],size=100)\n",
        "tur=np.random.choice(['Tur1','Tur2','Tur3'],size=100)"
      ],
      "metadata": {
        "id": "SF7Cmo9MZz-P"
      },
      "execution_count": 8,
      "outputs": []
    },
    {
      "cell_type": "markdown",
      "source": [
        "Data Frame Oluşturma"
      ],
      "metadata": {
        "id": "c54ICzsjbYhF"
      }
    },
    {
      "cell_type": "code",
      "source": [
        "veri=pd.DataFrame({\n",
        "    'BitkiID':bitki_id,\n",
        "    'YaprakUzunlugu':yaprak_uzunlugu,\n",
        "    'YaprakGenisligi':yaprak_genisligi,\n",
        "    'CicekRengi':cicek_rengi,\n",
        "    'Tur':tur\n",
        "})\n",
        "veri.to_csv('bitkiTurleri.csv',index=False)"
      ],
      "metadata": {
        "id": "bL95F8OubSzR"
      },
      "execution_count": 9,
      "outputs": []
    },
    {
      "cell_type": "code",
      "source": [],
      "metadata": {
        "id": "315fZrRheNm2"
      },
      "execution_count": null,
      "outputs": []
    }
  ]
}